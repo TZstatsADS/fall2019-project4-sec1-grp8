{
 "cells": [
  {
   "cell_type": "markdown",
   "metadata": {},
   "source": [
    "# ADS Project 4 Group 8"
   ]
  },
  {
   "cell_type": "markdown",
   "metadata": {},
   "source": [
    "### Team members: Zihan Zhou (zz2573), Suzy Gao (zg2333), Justine Zhang (yz3420), Jason Gao (yg2583)"
   ]
  },
  {
   "cell_type": "markdown",
   "metadata": {},
   "source": [
    "# 1. Introduction"
   ]
  },
  {
   "cell_type": "markdown",
   "metadata": {},
   "source": [
    "This project implements a collaborative filtering algorithm for recommender systems. It uses ${\\bf Alternating \\ Least \\ Squares}^\\text{[1]}$ as matrix factorization method, imposing ${\\bf magnitudes}$ and ${\\bf bias \\ \\& \\ intercepts}$ regularization$^\\text{[2]}$, and comparing performances using ${\\bf K-Nearest-Neighbor \\ (KNN)}$ and ${\\bf Kernel \\ Ridge \\ Regression}$ as postprocessing method$^\\text{[3]}$."
   ]
  },
  {
   "cell_type": "markdown",
   "metadata": {},
   "source": [
    "# 2. Data Preprocessing"
   ]
  },
  {
   "cell_type": "markdown",
   "metadata": {},
   "source": [
    "## Required Packages"
   ]
  },
  {
   "cell_type": "code",
   "execution_count": 1,
   "metadata": {},
   "outputs": [],
   "source": [
    "import pandas as pd\n",
    "import numpy as np\n",
    "import warnings\n",
    "warnings.filterwarnings('ignore')"
   ]
  },
  {
   "cell_type": "markdown",
   "metadata": {},
   "source": [
    "## Original Data"
   ]
  },
  {
   "cell_type": "code",
   "execution_count": 2,
   "metadata": {},
   "outputs": [
    {
     "data": {
      "text/html": [
       "<div>\n",
       "<style scoped>\n",
       "    .dataframe tbody tr th:only-of-type {\n",
       "        vertical-align: middle;\n",
       "    }\n",
       "\n",
       "    .dataframe tbody tr th {\n",
       "        vertical-align: top;\n",
       "    }\n",
       "\n",
       "    .dataframe thead th {\n",
       "        text-align: right;\n",
       "    }\n",
       "</style>\n",
       "<table border=\"1\" class=\"dataframe\">\n",
       "  <thead>\n",
       "    <tr style=\"text-align: right;\">\n",
       "      <th></th>\n",
       "      <th>userId</th>\n",
       "      <th>movieId</th>\n",
       "      <th>rating</th>\n",
       "      <th>timestamp</th>\n",
       "    </tr>\n",
       "  </thead>\n",
       "  <tbody>\n",
       "    <tr>\n",
       "      <th>0</th>\n",
       "      <td>1</td>\n",
       "      <td>1</td>\n",
       "      <td>4.0</td>\n",
       "      <td>964982703</td>\n",
       "    </tr>\n",
       "    <tr>\n",
       "      <th>1</th>\n",
       "      <td>1</td>\n",
       "      <td>3</td>\n",
       "      <td>4.0</td>\n",
       "      <td>964981247</td>\n",
       "    </tr>\n",
       "    <tr>\n",
       "      <th>2</th>\n",
       "      <td>1</td>\n",
       "      <td>6</td>\n",
       "      <td>4.0</td>\n",
       "      <td>964982224</td>\n",
       "    </tr>\n",
       "    <tr>\n",
       "      <th>3</th>\n",
       "      <td>1</td>\n",
       "      <td>47</td>\n",
       "      <td>5.0</td>\n",
       "      <td>964983815</td>\n",
       "    </tr>\n",
       "    <tr>\n",
       "      <th>4</th>\n",
       "      <td>1</td>\n",
       "      <td>50</td>\n",
       "      <td>5.0</td>\n",
       "      <td>964982931</td>\n",
       "    </tr>\n",
       "    <tr>\n",
       "      <th>5</th>\n",
       "      <td>1</td>\n",
       "      <td>70</td>\n",
       "      <td>3.0</td>\n",
       "      <td>964982400</td>\n",
       "    </tr>\n",
       "    <tr>\n",
       "      <th>6</th>\n",
       "      <td>1</td>\n",
       "      <td>101</td>\n",
       "      <td>5.0</td>\n",
       "      <td>964980868</td>\n",
       "    </tr>\n",
       "    <tr>\n",
       "      <th>7</th>\n",
       "      <td>1</td>\n",
       "      <td>110</td>\n",
       "      <td>4.0</td>\n",
       "      <td>964982176</td>\n",
       "    </tr>\n",
       "    <tr>\n",
       "      <th>8</th>\n",
       "      <td>1</td>\n",
       "      <td>151</td>\n",
       "      <td>5.0</td>\n",
       "      <td>964984041</td>\n",
       "    </tr>\n",
       "    <tr>\n",
       "      <th>9</th>\n",
       "      <td>1</td>\n",
       "      <td>157</td>\n",
       "      <td>5.0</td>\n",
       "      <td>964984100</td>\n",
       "    </tr>\n",
       "  </tbody>\n",
       "</table>\n",
       "</div>"
      ],
      "text/plain": [
       "   userId  movieId  rating  timestamp\n",
       "0       1        1     4.0  964982703\n",
       "1       1        3     4.0  964981247\n",
       "2       1        6     4.0  964982224\n",
       "3       1       47     5.0  964983815\n",
       "4       1       50     5.0  964982931\n",
       "5       1       70     3.0  964982400\n",
       "6       1      101     5.0  964980868\n",
       "7       1      110     4.0  964982176\n",
       "8       1      151     5.0  964984041\n",
       "9       1      157     5.0  964984100"
      ]
     },
     "execution_count": 2,
     "metadata": {},
     "output_type": "execute_result"
    }
   ],
   "source": [
    "data = pd.read_csv('../data/ml-latest-small/ratings.csv')\n",
    "data.head(10)"
   ]
  },
  {
   "cell_type": "markdown",
   "metadata": {},
   "source": [
    "## Transfer Data into Required Shape"
   ]
  },
  {
   "cell_type": "code",
   "execution_count": 3,
   "metadata": {},
   "outputs": [],
   "source": [
    "R = data.pivot_table(values='rating', columns = 'movieId', index='userId')\n",
    "R.shape\n",
    "R = R.to_numpy()"
   ]
  },
  {
   "cell_type": "markdown",
   "metadata": {},
   "source": [
    "# 3. Matrix Factorization"
   ]
  },
  {
   "cell_type": "markdown",
   "metadata": {},
   "source": [
    "After preprocessing the given data, we obtained a rating matrix $R_{610 \\times 9724}$, $R[i,j] = \\text{rating of movie } j \\text{ given by user } i$. We want to factorize $R_{n \\times m} = U_{n \\times d}M_{d \\times m}$, where $n=$ number of users, $m=$ number of movies, $d=$ number of hidden features. Due to severe sparsity of $R$, SVD method does not work in this case. \n",
    "\n",
    "Here we implement the ${\\bf Alternating \\ Least \\ Squares}$ algorithm to solve for a feasible solution of $(U,M)$. The objective function to be minimized is\n",
    "\n",
    "\\begin{equation*}\n",
    "\\sum_{(i,j) \\in I} \\left(r_{ij}-(b_{ij}+u_i^\\top m_j)\\right)^2 + \\lambda\\left( \\sum_i n_{u_i}(\\Vert u_i \\Vert^2+b_i^2) + \\sum_j n_{m_j}(\\Vert m_j \\Vert^2+b_j^2) \\right)\n",
    "\\end{equation*}\n",
    "\n",
    "* $n_{u_i}$: number of ratings given by user $i$ \n",
    "* $n_{m_j}$: number of ratings of movie $j$ \n",
    "* $b_{ij} = \\mu + b_i + b_j$\n",
    "    + $\\mu$: overall average rating\n",
    "    + $b_i$: observed deviations of user $i$ from the average\n",
    "    + $b_j$: observed deviations of movie $j$ from the average\n",
    "\n",
    "Let $T$ denote the modified rating matrix, where $t_{ij} = r_{ij} - \\mu - b_i - b_j$. The aim is to minimize the difference between $R$ and $UM$ under regularizations. Here we penalize magnitudes to prevent overfitting, and we take bias and intercepts into consideration, since some users give higher ratings than others, and some movies receive higher ratings than others. \n",
    "\n",
    "The ${\\bf Alternating \\ Least \\ Squares}$ algorithm is as follows:\n",
    "\n",
    "1. Initialize matrix $M$ by assigning the average rating for each movie as the first row, and small random numbers for the remaining entries;\n",
    "2. Fix $M$, solve $U$ by minimizing the objective function;\n",
    "3. Fix $U$, solve $M$ by minimizing the objective function;\n",
    "4. Repeat steps 2 and 3 until the improvement on objective function is less than a stopping criterion.\n",
    "\n",
    "We can show after some mathematical calculation that, the optimal $U$ given $M$ is\n",
    "\n",
    "\\begin{equation*}\n",
    "u_i = A_i^{-1}V_i, \\forall i\n",
    "\\end{equation*}\n",
    "\n",
    "where\n",
    "\n",
    "\\begin{equation*}\n",
    "A_i = M_{I_i}M_{I_i}^\\top + \\lambda n_{u_i}I, V_i = M_{I_i}T^\\top(i,I_i)\n",
    "\\end{equation*}\n",
    "\n",
    "Here $I_i$ denotes the set of movies that user $i$ rated, $M_{I_i}$ denotes the sub-matrix of $M$ where columns $j \\in I_i$ are selected, and $T(i,I_i)$ is the row vector where columns $j \\in I_i$ of the $i$-th row of $T$ is taken.\n",
    "\n",
    "Similarly, given $U$, the optimal $M$ is\n",
    "\n",
    "\\begin{equation*}\n",
    "m_j = A_j^{-1}V_j, \\forall j\n",
    "\\end{equation*}\n",
    "\n",
    "where\n",
    "\n",
    "\\begin{equation*}\n",
    "A_i = U_{I_j}U_{I_j}^\\top + \\lambda n_{m_j}I, V_i = U_{I_j}T(I_j,j)\n",
    "\\end{equation*}"
   ]
  },
  {
   "cell_type": "markdown",
   "metadata": {},
   "source": [
    "Next we implemented the algorithm and evaluated its performance under different $d$'s and $\\lambda$'s."
   ]
  },
  {
   "cell_type": "code",
   "execution_count": 4,
   "metadata": {
    "scrolled": true
   },
   "outputs": [],
   "source": [
    "%run ../lib/ALS.py\n",
    "import matplotlib.pyplot as plt\n",
    "import numpy as np"
   ]
  },
  {
   "cell_type": "markdown",
   "metadata": {},
   "source": [
    "First we choose an appropriate $d$."
   ]
  },
  {
   "cell_type": "code",
   "execution_count": 5,
   "metadata": {
    "scrolled": true
   },
   "outputs": [
    {
     "data": {
      "image/png": "[encoded data removed]",
      "text/plain": [
       "<Figure size 432x288 with 1 Axes>"
      ]
     },
     "metadata": {
      "needs_background": "light"
     },
     "output_type": "display_data"
    }
   ],
   "source": [
    "lambda_list = [0.03, 0.04, 0.05]\n",
    "d_list = [2, 5, 10, 15]\n",
    "plt.figure()\n",
    "for l in lambda_list:\n",
    "    rmse = []\n",
    "    label = 'λ = ' + str(l)\n",
    "    for d in d_list:\n",
    "        (U,M), serror = ALS(R, d = d, Lambda = l, seed = 2019)\n",
    "        rmse.append(serror[-1])\n",
    "    plt.plot(d_list, rmse, label = label)\n",
    "plt.xlabel('Number of Hidden Features')\n",
    "plt.ylabel('RMSE')\n",
    "plt.title('Performance of Different λ')\n",
    "plt.legend()\n",
    "plt.show()\n"
   ]
  },
  {
   "cell_type": "markdown",
   "metadata": {},
   "source": [
    "From the plot we can see that the larger the number of hidden features we choose, the better the performance of factorization is. We choose $d=10$ as it keeps a balance between good performance and computation cost.\n",
    "\n",
    "Next we do parameter tuning on $\\lambda$, i.e. coefficient of the penalty term."
   ]
  },
  {
   "cell_type": "code",
   "execution_count": 6,
   "metadata": {},
   "outputs": [
    {
     "data": {
      "image/png": "[encoded data removed]",
      "text/plain": [
       "<Figure size 432x288 with 1 Axes>"
      ]
     },
     "metadata": {
      "needs_background": "light"
     },
     "output_type": "display_data"
    }
   ],
   "source": [
    "lambda_list = [0.001, 0.005, 0.01, 0.015, 0.02, 0.1, 0.2]\n",
    "plt.figure()\n",
    "plt.xlim(1,100)\n",
    "for l in lambda_list:\n",
    "    (U,M), serror = ALS(R, d = 10, Lambda = l, seed = 2019)\n",
    "    label = 'λ = ' + str(l)\n",
    "    plt.plot(list(range(1, len(serror)+1)), serror, label = label)\n",
    "plt.legend()\n",
    "plt.xlabel('Number of Iterations')\n",
    "plt.ylabel('RMSE')\n",
    "plt.title('Performance of Different λ with d = 10')\n",
    "plt.show()"
   ]
  },
  {
   "cell_type": "markdown",
   "metadata": {},
   "source": [
    "We can see from the plot that $\\lambda = 0.005$ is an appropriate choice. It achieves a low RMSE while taking less than 70 iteration steps to converge.\n",
    "\n",
    "Next we do a train-test-split on the data (with 80% as training set), and evaluate different postprocessing methods."
   ]
  },
  {
   "cell_type": "markdown",
   "metadata": {},
   "source": [
    "# 4. Train-Test-Split"
   ]
  },
  {
   "cell_type": "code",
   "execution_count": 7,
   "metadata": {},
   "outputs": [],
   "source": [
    "%run ../lib/train_test_split.py"
   ]
  },
  {
   "cell_type": "code",
   "execution_count": 8,
   "metadata": {},
   "outputs": [
    {
     "name": "stdout",
     "output_type": "stream",
     "text": [
      "###### Size of training set: 0.800032  ######\n"
     ]
    }
   ],
   "source": [
    "train, test = train_test_split(R, train_size = 0.8, seed = 2019)"
   ]
  },
  {
   "cell_type": "code",
   "execution_count": 9,
   "metadata": {},
   "outputs": [],
   "source": [
    "(U,M), serror = ALS(train, d = 10, Lambda = 0.005, seed = 2019)"
   ]
  },
  {
   "cell_type": "markdown",
   "metadata": {},
   "source": [
    "# 5. Postprocessing"
   ]
  },
  {
   "cell_type": "markdown",
   "metadata": {},
   "source": [
    "## 5.1. Baseline"
   ]
  },
  {
   "cell_type": "markdown",
   "metadata": {},
   "source": [
    "First we take a look at the baseline method, which is to use $U\\times M$ as predictions (of the modified rating matrix) directly."
   ]
  },
  {
   "cell_type": "code",
   "execution_count": 10,
   "metadata": {},
   "outputs": [],
   "source": [
    "%run ../lib/modify.py"
   ]
  },
  {
   "cell_type": "code",
   "execution_count": 11,
   "metadata": {},
   "outputs": [
    {
     "name": "stdout",
     "output_type": "stream",
     "text": [
      "###### Size of training set: 0.800032  ######\n",
      "0.44436816964341996\n",
      "1.1690024326349446\n"
     ]
    }
   ],
   "source": [
    "Rhat = np.matmul(U,M)\n",
    "R0 = modify(R)\n",
    "train0, test0 = train_test_split(R0, 0.8, 2019)\n",
    "\n",
    "print(RMSE(train0, Rhat))\n",
    "print(RMSE(test0, Rhat))"
   ]
  },
  {
   "cell_type": "markdown",
   "metadata": {},
   "source": [
    "RMSE achieved on testing set is 1.169. Next we try to improve the predicting accuracy by postprocessing methods."
   ]
  },
  {
   "cell_type": "markdown",
   "metadata": {},
   "source": [
    "## 5.2. K-Nearest-Neighbor (KNN)"
   ]
  },
  {
   "cell_type": "markdown",
   "metadata": {},
   "source": [
    "The first method is KNN, which is to predict user $i$'s rating on movie $j$, based on the $K$ nearest movies that user $i$ has rated, to movie $j$. The distance defined here is cosine similarity using each movie's feature vector obtained above (i.e. each column of $M$):\n",
    "\n",
    "\\begin{equation*}\n",
    "s(v_i, v_j) = \\frac{v_i^\\top v_j}{\\Vert v_i \\Vert \\Vert v_j \\Vert}, -1 \\le s(v_i,v_j) \\le 1\n",
    "\\end{equation*}\n",
    "\n",
    "We select $K$ movies that have the highest similarities with the objective movie."
   ]
  },
  {
   "cell_type": "code",
   "execution_count": 12,
   "metadata": {},
   "outputs": [],
   "source": [
    "%run ../lib/knn.py"
   ]
  },
  {
   "cell_type": "code",
   "execution_count": 13,
   "metadata": {},
   "outputs": [
    {
     "name": "stdout",
     "output_type": "stream",
     "text": [
      "######### Start Calculating the similarity between movies #########\n"
     ]
    }
   ],
   "source": [
    "train0 = nan_to_zero(train0)\n",
    "test0 = nan_to_zero(test0)\n",
    "n = train0.shape[0]\n",
    "\n",
    "# store all the similarity calculations in an array ss to reduce complexity\n",
    "print(\"######### Start Calculating the similarity between movies #########\")\n",
    "ss = []\n",
    "for i in range(n):\n",
    "    #print(i+1,\"/\",n)\n",
    "    simi = similarity(i,train0,test0,M)\n",
    "    ss.append(simi)"
   ]
  },
  {
   "cell_type": "markdown",
   "metadata": {},
   "source": [
    "### 5.2.1. $K=1$"
   ]
  },
  {
   "cell_type": "markdown",
   "metadata": {},
   "source": [
    "First we choose $K=1$, i.e. pick the movie that is most similar to the objective movie, and use its rating as prediction."
   ]
  },
  {
   "cell_type": "code",
   "execution_count": 14,
   "metadata": {},
   "outputs": [
    {
     "name": "stdout",
     "output_type": "stream",
     "text": [
      "Training RMSE: 0.8188360959482575\n",
      "Testing RMSE: 1.0857543086234802\n"
     ]
    }
   ],
   "source": [
    "k = 1\n",
    "pred_train = knn(k, train0, test0, M, ss)\n",
    "pred_test = knn(k, train0, test0, M, ss)\n",
    "print('Training RMSE:', RMSE(train0, pred_train))\n",
    "print('Testing RMSE:', RMSE(test0, pred_test))"
   ]
  },
  {
   "cell_type": "markdown",
   "metadata": {},
   "source": [
    "The performance is slightly better than baseline method."
   ]
  },
  {
   "cell_type": "markdown",
   "metadata": {},
   "source": [
    "### 5.2.2. $K>1$"
   ]
  },
  {
   "cell_type": "markdown",
   "metadata": {},
   "source": [
    "When we choose $K>1$, the prediction would be a weighted average of ratings of the $K$ most similar movies, as proposed by $[4]$. More specifically the formula for predicting user $i$'s rating on movie $j$ is\n",
    "\n",
    "\\begin{equation*}\n",
    "P_{i,j} = \\frac{\\sum_{k \\in I_i^K(j)} s(v_j,v_k)R_{i,k}}{\\sum_{k \\in I_i^K(j)} s(v_j,v_k)}\n",
    "\\end{equation*}\n",
    "\n",
    "Here $I_i^K(j) = \\{k: k \\text{ belongs to the } K \\text{ most similar movies to movie } j \\text{ and user } u \\text{ has rated } k \\}$."
   ]
  },
  {
   "cell_type": "markdown",
   "metadata": {},
   "source": [
    "One problem that would possibly arise is that since similarities lie between $-1$ and $1$, there would be numerical issues when the denominator is close to $0$. \n",
    "\n",
    "Next we evaluate the performance under different $k$'s."
   ]
  },
  {
   "cell_type": "code",
   "execution_count": 19,
   "metadata": {},
   "outputs": [
    {
     "name": "stdout",
     "output_type": "stream",
     "text": [
      "######## Lowest RMSE: 0.8542394216110797\n"
     ]
    },
    {
     "data": {
      "image/png": "[encoded data removed]",
      "text/plain": [
       "<Figure size 432x288 with 1 Axes>"
      ]
     },
     "metadata": {
      "needs_background": "light"
     },
     "output_type": "display_data"
    }
   ],
   "source": [
    "Ks = np.arange(1, 21, 1) \n",
    "rmse_test = np.zeros(len(Ks)) \n",
    "rmse_train = np.zeros(len(Ks)) \n",
    "\n",
    "for i, k in enumerate(Ks): \n",
    "    #print('K:',k)\n",
    "    pred_test = knn(k,train0,test0,M,ss)\n",
    "    error_test = RMSE(test0, pred_test)\n",
    "    rmse_test[i] = error_test\n",
    "    \n",
    "    pred_train = knn(k,train0,train0,M,ss)\n",
    "    error_train = RMSE(train0, pred_train)\n",
    "    rmse_train[i] = error_train\n",
    "\n",
    "print('######## Lowest RMSE:', min(rmse_test))\n",
    "#Generate plot \n",
    "plt.plot(Ks, rmse_test, label = 'Testing Dataset RMSE')\n",
    "plt.plot(Ks, rmse_train, label = 'Training Dataset RMSE')\n",
    "\n",
    "\n",
    "plt.legend() \n",
    "plt.xlabel('n_neighbors') \n",
    "plt.ylabel('RMSE')\n",
    "plt.title('RMSE under K=1 to 20')\n",
    "plt.xticks(Ks)\n",
    "plt.savefig('../figs/knn.png')"
   ]
  },
  {
   "cell_type": "markdown",
   "metadata": {},
   "source": [
    "The lowest RMSE 0.854239 is achieved at $K=12$, which improves baseline method by $1 - \\frac{0.854239}{1.169} = 26.9\\%$."
   ]
  },
  {
   "cell_type": "markdown",
   "metadata": {},
   "source": [
    "## 5.3. Kernel Ridge Regression (KRR)"
   ]
  },
  {
   "cell_type": "markdown",
   "metadata": {},
   "source": [
    "Another postprocessing method is Kernel Ridge Regression using only movie feature $M$, and discard user feature $U$.\n",
    "\n",
    "For any user $i$, let $y=i^{th}$ row of rating matrix $R$, with missing values omitted, i.e. $y$ is the vector of ratings of movies rated by user $i$. Let $X$ be a matrix of observations - each row of X is a normalized vector of features of one movie $j$ rated by user $i$. We can predict user $i$'s rating on movie $j$ using ridge regression:\n",
    "\n",
    "\\begin{equation*}\n",
    "\\hat{y_j} = x_j^\\top\\hat{\\beta} = x_j^\\top(X^\\top X+\\lambda I)^{-1}X^\\top y\n",
    "\\end{equation*}\n",
    "\n",
    "where $x_j$ is the feature vector of movie $j$. Another form is\n",
    "\n",
    "\\begin{equation*}\n",
    "\\hat{y_j} = \\hat{\\beta}^\\top x_j = y^\\top (XX^\\top + \\lambda I)^{-1}X x_j^\\top\n",
    "\\end{equation*}\n",
    "\n",
    "Imposing kernel trick on this formula leads to KRR.\n",
    "\n",
    "We apply KRR to every user and take the average of errors."
   ]
  },
  {
   "cell_type": "code",
   "execution_count": 20,
   "metadata": {},
   "outputs": [],
   "source": [
    "%run ../lib/krr.py\n",
    "from sklearn.metrics import mean_squared_error\n",
    "from sklearn.kernel_ridge import KernelRidge\n",
    "import time"
   ]
  },
  {
   "cell_type": "markdown",
   "metadata": {},
   "source": [
    "### 5.3.1. Linear Kernel"
   ]
  },
  {
   "cell_type": "markdown",
   "metadata": {},
   "source": [
    "First we apply linear kernel, i.e. ordinary ridge regression."
   ]
  },
  {
   "cell_type": "code",
   "execution_count": 21,
   "metadata": {},
   "outputs": [
    {
     "data": {
      "image/png": "[encoded data removed]",
      "text/plain": [
       "<Figure size 432x288 with 1 Axes>"
      ]
     },
     "metadata": {
      "needs_background": "light"
     },
     "output_type": "display_data"
    }
   ],
   "source": [
    "n = train0.shape[0]\n",
    "n_train = np.count_nonzero(train0)\n",
    "n_test = np.count_nonzero(test0)\n",
    "lambda_list = [0.1, 0.5, 1, 3, 5, 7, 9, 20, 30, 40]\n",
    "test_error = []\n",
    "test_error_l = []\n",
    "train_error = []\n",
    "train_error_l = []\n",
    "n_rating_user = np.count_nonzero(train0,1)\n",
    "sorted_user = sorted(range(len(n_rating_user)), key=lambda x: n_rating_user[x])\n",
    "for l in lambda_list:\n",
    "    teste = []\n",
    "    teste_l = []\n",
    "    traine = []\n",
    "    traine_l = []\n",
    "    for i in sorted_user:\n",
    "        nolimit = krr_linear(i,train0,test0,M,l)\n",
    "        traine.append(nolimit[0])\n",
    "        teste.append(nolimit[1])\n",
    "        limit = krr_linear(i,train0,test0,M,l,limit=500)\n",
    "        traine_l.append(limit[0])\n",
    "        teste_l.append(limit[1])\n",
    "    train_error.append(np.sqrt(sum(traine)/n_train))\n",
    "    train_error_l.append(np.sqrt(sum(traine_l)/n_train))\n",
    "    test_error.append(np.sqrt(sum(teste)/n_test))\n",
    "    test_error_l.append(np.sqrt(sum(teste_l)/n_test))\n",
    "\n",
    "plt.figure()\n",
    "plt.plot(np.arange(1,len(lambda_list)+1,1), train_error, label = 'No Limit: Train')\n",
    "plt.plot(np.arange(1,len(lambda_list)+1,1), train_error_l, label = 'Limit(500): Train')\n",
    "plt.plot(np.arange(1,len(lambda_list)+1,1), test_error, label = 'No Limit: Test')\n",
    "plt.plot(np.arange(1,len(lambda_list)+1,1), test_error_l, label = 'Limit(500): Test')\n",
    "plt.legend()                       \n",
    "plt.xticks(np.arange(1,len(lambda_list)+1,1), (str(x) for x in lambda_list))\n",
    "plt.xlabel('λ')\n",
    "plt.ylabel('RMSE')\n",
    "plt.title('Linear Kernel Ridge Regression With/Without Limit')\n",
    "plt.savefig('../figs/linear.png')"
   ]
  },
  {
   "cell_type": "markdown",
   "metadata": {},
   "source": [
    "The lowest testing RMSE we obtained is 0.8218 at $\\lambda = 40$, which improves baseline by $29.7\\%$.\n",
    "\n",
    "Next we use RBF kernel with fixed $\\lambda = 1$."
   ]
  },
  {
   "cell_type": "code",
   "execution_count": 23,
   "metadata": {},
   "outputs": [
    {
     "data": {
      "image/png": "[encoded data removed]",
      "text/plain": [
       "<Figure size 432x288 with 1 Axes>"
      ]
     },
     "metadata": {
      "needs_background": "light"
     },
     "output_type": "display_data"
    }
   ],
   "source": [
    "gamma_list = [0.001, 0.01, 0.1, 0.5, 1, 2]\n",
    "test_error = []\n",
    "test_error_l = []\n",
    "train_error = []\n",
    "train_error_l = []\n",
    "n_rating_user = np.count_nonzero(train0,1)\n",
    "sorted_user = sorted(range(len(n_rating_user)), key=lambda x: n_rating_user[x])\n",
    "for l in gamma_list:\n",
    "    teste = []\n",
    "    teste_l = []\n",
    "    traine = []\n",
    "    traine_l = []\n",
    "    for i in sorted_user:\n",
    "        nolimit = krr_rbf(i,train0,test0,M,1,l)\n",
    "        traine.append(nolimit[0])\n",
    "        teste.append(nolimit[1])\n",
    "        limit = krr_rbf(i,train0,test0,M,1,l,limit=500)\n",
    "        traine_l.append(limit[0])\n",
    "        teste_l.append(limit[1])\n",
    "    train_error.append(np.sqrt(sum(traine)/n_train))\n",
    "    train_error_l.append(np.sqrt(sum(traine_l)/n_train))\n",
    "    test_error.append(np.sqrt(sum(teste)/n_test))\n",
    "    test_error_l.append(np.sqrt(sum(teste_l)/n_test))\n",
    "\n",
    "plt.figure()\n",
    "plt.plot(np.arange(1,len(gamma_list)+1,1), train_error, label = 'No Limit: Train')\n",
    "plt.plot(np.arange(1,len(gamma_list)+1,1), train_error_l, label = 'Limit(500): Train')\n",
    "plt.plot(np.arange(1,len(gamma_list)+1,1), test_error, label = 'No Limit: Test')\n",
    "plt.plot(np.arange(1,len(gamma_list)+1,1), test_error_l, label = 'Limit(500): Test')\n",
    "plt.legend()                       \n",
    "plt.xticks(np.arange(1,len(gamma_list)+1,1), (str(x) for x in gamma_list))\n",
    "plt.xlabel('γ')\n",
    "plt.ylabel('RMSE')\n",
    "plt.title('RBF Kernel Ridge Regression With/Without Limit')\n",
    "plt.savefig('../figs/rbf.png')"
   ]
  },
  {
   "cell_type": "markdown",
   "metadata": {},
   "source": [
    "The lowest testing RMSE we obtained is 0.8104 at $\\gamma = 0.001$, which improves baseline by $30.7\\%$."
   ]
  },
  {
   "cell_type": "markdown",
   "metadata": {},
   "source": [
    "**Remark:** Although the performance of KRR is better than KNN, it may not be as reliable as KNN in a different dataset because\n",
    "\n",
    "+ There is a weird monotonicity of error with regards to tuning parameters on both kernels;\n",
    "+ The trends of training error and testing error are not consistent.\n",
    "\n",
    "and we cannot explain the reason for that."
   ]
  },
  {
   "cell_type": "markdown",
   "metadata": {},
   "source": [
    "# 6. Conclusion"
   ]
  },
  {
   "cell_type": "markdown",
   "metadata": {},
   "source": [
    "We significantly improved the performance compared to baseline method by postprocessing. The biggest improvement is obtained by KRR but it may not be as reliable as KNN due to its weird shape of train-test-error curve that we can not explain."
   ]
  },
  {
   "cell_type": "markdown",
   "metadata": {},
   "source": [
    "# 7. Reference"
   ]
  },
  {
   "cell_type": "markdown",
   "metadata": {},
   "source": [
    "1. Y. Zhou et al., \"Large-Scale Parallel Collaborative Filtering for the Netflix Prize\", Proc. $4^{th}$ Int'l Conf. Algorithmic Aspects in Information and Management, LNCS 5034, Springer, 2008, pp. 337-348. \n",
    "\n",
    "2. Y.Koren. \"Matrix Factorization Techniques for Recommender Systems\", Journal Computer, 42, No.8, 2009, pp. 30-37.\n",
    "\n",
    "3. A.Patarek. \"Improving Regularized Singular Value Decomposition for Collaborative Filtering\", Proc. KDD Cup and Workshop, ACM Press, 2007, pp. 39-42.\n",
    "\n",
    "4. Z.Wen. \"Recommendation System Based on Collaborative Filtering\", Stanford CS229 Project Report, 2008."
   ]
  }
 ],
 "metadata": {
  "kernelspec": {
   "display_name": "Python 3",
   "language": "python",
   "name": "python3"
  },
  "language_info": {
   "codemirror_mode": {
    "name": "ipython",
    "version": 3
   },
   "file_extension": ".py",
   "mimetype": "text/x-python",
   "name": "python",
   "nbconvert_exporter": "python",
   "pygments_lexer": "ipython3",
   "version": "3.7.3"
  }
 },
 "nbformat": 4,
 "nbformat_minor": 2
}
